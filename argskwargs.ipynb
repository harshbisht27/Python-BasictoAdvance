{
 "cells": [
  {
   "cell_type": "markdown",
   "metadata": {},
   "source": [
    "*args and **kwargs\n",
    "*args and **kwargs are special Python keywords that are used to pass the variable length of arguments to a function\n",
    "\n",
    "*args\n",
    "allows us to pass a variable number of non-keyword arguments to a function.\n",
    "\n",
    "**kwargs\n",
    "**kwargs allows us to pass any number of keyword arguments.\n",
    "Keyword arguments mean that they contain a key-value pair, like a Python dictionary."
   ]
  },
  {
   "cell_type": "code",
   "execution_count": 1,
   "metadata": {},
   "outputs": [],
   "source": [
    "def multiply(*args):\n",
    "    product = 1\n",
    "    for i in args:\n",
    "        product = product * i\n",
    "    \n",
    "    return product"
   ]
  },
  {
   "cell_type": "code",
   "execution_count": 2,
   "metadata": {},
   "outputs": [
    {
     "name": "stdout",
     "output_type": "stream",
     "text": [
      "20412000\n"
     ]
    }
   ],
   "source": [
    "res = multiply(1,2,3,3,4,5,6,5,6,7,45)\n",
    "print(res)"
   ]
  },
  {
   "cell_type": "code",
   "execution_count": 3,
   "metadata": {},
   "outputs": [],
   "source": [
    "def display(**kwargs):\n",
    "    for (key,val) in kwargs.items():\n",
    "        print(f\"{key} -> {val}\")"
   ]
  },
  {
   "cell_type": "code",
   "execution_count": 4,
   "metadata": {},
   "outputs": [
    {
     "name": "stdout",
     "output_type": "stream",
     "text": [
      "india -> Delhi\n",
      "Bangladesh -> Dhaka\n",
      "srilanka -> colombo\n"
     ]
    }
   ],
   "source": [
    "display(india=\"Delhi\", Bangladesh=\"Dhaka\", srilanka=\"colombo\")"
   ]
  },
  {
   "cell_type": "code",
   "execution_count": 5,
   "metadata": {},
   "outputs": [
    {
     "name": "stdout",
     "output_type": "stream",
     "text": [
      "india -> Delhi\n",
      "Bangladesh -> Dhaka\n",
      "srilanka -> colombo\n"
     ]
    }
   ],
   "source": [
    "def display(**harsh):\n",
    "    for (key,val) in harsh.items():\n",
    "        print(f\"{key} -> {val}\")\n",
    "display(india=\"Delhi\", Bangladesh=\"Dhaka\", srilanka=\"colombo\")"
   ]
  },
  {
   "cell_type": "code",
   "execution_count": null,
   "metadata": {},
   "outputs": [],
   "source": []
  }
 ],
 "metadata": {
  "kernelspec": {
   "display_name": "Python 3",
   "language": "python",
   "name": "python3"
  },
  "language_info": {
   "codemirror_mode": {
    "name": "ipython",
    "version": 3
   },
   "file_extension": ".py",
   "mimetype": "text/x-python",
   "name": "python",
   "nbconvert_exporter": "python",
   "pygments_lexer": "ipython3",
   "version": "3.9.6"
  }
 },
 "nbformat": 4,
 "nbformat_minor": 2
}
