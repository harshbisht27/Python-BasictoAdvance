{
 "cells": [
  {
   "cell_type": "markdown",
   "metadata": {},
   "source": [
    "Polymorphism in OOP\n",
    "Polymorphism refers to having multiple forms. Polymorphism is a programming term that refers to the use of the same function name, but with different signatures.\n",
    "\n",
    "Method Overriding\n",
    "Method Overloading\n",
    "Operator Overloading\n",
    "class Shape:\n",
    "\n",
    "  def area(self,redius):\n",
    "    return 3.14*redius**2\n",
    "\n",
    "  def area(self, l,b):\n",
    "    return l*b\n",
    "\n",
    "\n",
    "s = Shape()\n",
    "s.area(2,3)\n",
    "6\n",
    "class Shape:\n",
    "\n",
    "  def area(self,redius,l,b):\n",
    "    if b == None:\n",
    "      print(\"Radius\")\n",
    "      return 3.14*redius**2\n",
    "    else:\n",
    "      print(\"Multiply\")\n",
    "      return l*b\n",
    "\n",
    "\n",
    "\n",
    "\n",
    "s = Shape()\n",
    "s.area(redius=8, l= 45, b=3)\n",
    "Multiply\n",
    "135\n",
    "\"Hello\" + \"Hello\"\n",
    "'HelloHello'\n",
    "3+4\n",
    "7\n",
    "[1,2,3] + [4,5,6]\n"
   ]
  }
 ],
 "metadata": {
  "language_info": {
   "name": "python"
  }
 },
 "nbformat": 4,
 "nbformat_minor": 2
}
