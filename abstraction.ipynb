{
 "cells": [
  {
   "cell_type": "markdown",
   "metadata": {},
   "source": [
    "Abstraction in OOP\n",
    "Abstraction is a fundamental concept in Python programming that allows us to simplify complex concepts and focus on the essential details. It involves hiding unnecessary details and exposing only the relevant information to the users.\n",
    "\n",
    "# Abstract Base Class (ABC)\n",
    "from abc import ABC, abstractmethod\n",
    "\n",
    "#senior\n",
    "class BankServer(ABC):\n",
    "    def database(self):\n",
    "        print(\"Connected to database\")\n",
    "\n",
    "    @abstractmethod\n",
    "    def security(self):\n",
    "        print(\"Security passed\")\n",
    "\n",
    "    @abstractmethod\n",
    "    def display(self):\n",
    "        print(\"Displaying data\")\n",
    "\n",
    "\n",
    "    \n",
    "#junior \n",
    "class MobileApp(BankServer):\n",
    "    def mobile_login(self):\n",
    "        print(\"Mobile app login successful\")\n",
    "\n",
    "    \n",
    "    def security(self):\n",
    "        print(\"Mobile app security\")\n",
    "\n",
    "    \n",
    "    def display(self):\n",
    "        print(\"Displaying data\")\n",
    "mob = MobileApp()\n",
    "mob.mobile_login()\n",
    "Mobile app login successful\n",
    "mob.database()\n",
    "Connected to database\n"
   ]
  }
 ],
 "metadata": {
  "language_info": {
   "name": "python"
  }
 },
 "nbformat": 4,
 "nbformat_minor": 2
}
