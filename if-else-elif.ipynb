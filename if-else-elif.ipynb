{
 "cells": [
  {
   "cell_type": "code",
   "execution_count": null,
   "metadata": {},
   "outputs": [
    {
     "name": "stdout",
     "output_type": "stream",
     "text": [
      "Invalid credentials!\n"
     ]
    }
   ],
   "source": [
    "# Login Function demo\n",
    "\n",
    "\"\"\" Actual Credentials\n",
    "Email: xyz@gmail.com\n",
    "Password: 123456\n",
    "\"\"\"\n",
    "\n",
    "\n",
    "email = input(\"Enter your email address: \")\n",
    "password = input(\"Enter your password: \")\n",
    "\n",
    "if email == \"xyz@gmail.com\" and password == \"123456\":\n",
    "    print(\"Login Successful!\")\n",
    "\n",
    "else:\n",
    "    print(\"Invalid credentials!\")"
   ]
  },
  {
   "cell_type": "code",
   "execution_count": 2,
   "metadata": {},
   "outputs": [
    {
     "name": "stdout",
     "output_type": "stream",
     "text": [
      "Please try again!\n"
     ]
    }
   ],
   "source": [
    "#use of elif\n",
    "\n",
    "\"\"\" Actual Credentials\n",
    "Email: entbappy73@gmail.com\n",
    "Password: 1234\n",
    "\"\"\"\n",
    "\n",
    "\n",
    "email = input(\"Enter your email address: \")\n",
    "password = input(\"Enter your password: \")\n",
    "\n",
    "if email == \"xyz@gmail.com\" and password == \"123456\":\n",
    "    print(\"Login Successful!\")\n",
    "\n",
    "\n",
    "elif email == \"xyz@gmail.com\" and password != \"123456\":\n",
    "    print(\"Please try again!\")\n",
    "\n",
    "else:\n",
    "    print(\"Invalid credentials!\")"
   ]
  },
  {
   "cell_type": "markdown",
   "metadata": {},
   "source": [
    "nested condition"
   ]
  },
  {
   "cell_type": "code",
   "execution_count": null,
   "metadata": {},
   "outputs": [],
   "source": [
    "email = input(\"Enter your email address: \")\n",
    "password = input(\"Enter your password: \")\n",
    "\n",
    "if email == \"xyz@gmail.com\" and password == \"123456\":\n",
    "    print(\"Login Successful!\")\n",
    "\n",
    "\n",
    "elif email == \"xyz@gmail.com\" and password != \"123456\":\n",
    "    print(\"Please try again!\")\n",
    "    password = input(\"Enter the correct password again: \")\n",
    "\n",
    "    if password == \"123456\":\n",
    "        print(\"Success\")\n",
    "    else:\n",
    "        print(\"Wrong!\")\n",
    "\n",
    "else:\n",
    "    print(\"Invalid credentials!\")"
   ]
  }
 ],
 "metadata": {
  "kernelspec": {
   "display_name": "Python 3",
   "language": "python",
   "name": "python3"
  },
  "language_info": {
   "codemirror_mode": {
    "name": "ipython",
    "version": 3
   },
   "file_extension": ".py",
   "mimetype": "text/x-python",
   "name": "python",
   "nbconvert_exporter": "python",
   "pygments_lexer": "ipython3",
   "version": "3.9.6"
  }
 },
 "nbformat": 4,
 "nbformat_minor": 2
}
