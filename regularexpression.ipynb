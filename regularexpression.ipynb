{
 "cells": [
  {
   "cell_type": "markdown",
   "metadata": {},
   "source": [
    "Regular Expression in Python\n",
    "Regular expressions, or \"regex\" for short, are a powerful tool for working with strings and text data in Python. They allow you to match and manipulate strings based on patterns, making it easy to perform complex string operations with just a few lines of code."
   ]
  },
  {
   "cell_type": "code",
   "execution_count": 1,
   "metadata": {},
   "outputs": [],
   "source": [
    "text = '''Cyclone Dumazile was a strong tropical cyclone in \n",
    "the South-West Indian Ocean that affected Madagascar \n",
    "and Réunion in early March 2018. Dumazile originated \n",
    "from a Cyclone low-pressure Dyclone Pyclone area that formed \n",
    "near Agaléga on 27 February. It became a tropical \n",
    "disturbance on 2 March, and was named the next day \n",
    "after attaining tropical storm status. \n",
    "'''"
   ]
  },
  {
   "cell_type": "code",
   "execution_count": 2,
   "metadata": {},
   "outputs": [
    {
     "name": "stdout",
     "output_type": "stream",
     "text": [
      "<re.Match object; span=(0, 7), match='Cyclone'>\n"
     ]
    }
   ],
   "source": [
    "pattern = r\"[A-Z]+yclone\"\n",
    "import re\n",
    "match = re.search(pattern, text)\n",
    "print(match)"
   ]
  },
  {
   "cell_type": "code",
   "execution_count": 3,
   "metadata": {},
   "outputs": [
    {
     "name": "stdout",
     "output_type": "stream",
     "text": [
      "Cyclone\n",
      "Cyclone\n",
      "Dyclone\n",
      "Pyclone\n"
     ]
    }
   ],
   "source": [
    "match_item = re.finditer(pattern, text)\n",
    "\n",
    "for match in match_item:\n",
    "    # print(match.span())\n",
    "    index = match.span()\n",
    "    print(text[index[0]:index[1]])"
   ]
  },
  {
   "cell_type": "code",
   "execution_count": null,
   "metadata": {},
   "outputs": [],
   "source": []
  }
 ],
 "metadata": {
  "kernelspec": {
   "display_name": "Python 3",
   "language": "python",
   "name": "python3"
  },
  "language_info": {
   "codemirror_mode": {
    "name": "ipython",
    "version": 3
   },
   "file_extension": ".py",
   "mimetype": "text/x-python",
   "name": "python",
   "nbconvert_exporter": "python",
   "pygments_lexer": "ipython3",
   "version": "3.9.6"
  }
 },
 "nbformat": 4,
 "nbformat_minor": 2
}
