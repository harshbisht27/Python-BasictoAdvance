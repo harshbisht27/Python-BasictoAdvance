{
 "cells": [
  {
   "cell_type": "code",
   "execution_count": 2,
   "metadata": {},
   "outputs": [],
   "source": [
    "text = '''Cyclone Dumazile was a strong tropical cyclone in \n",
    "the South-West Indian Ocean that affected Madagascar \n",
    "and Réunion in early March 2018. Dumazile originated \n",
    "from a Cyclone low-pressure harsh@gmail.com area that formed \n",
    "near Agaléga on 27 February. It became a tropical \n",
    "disturbance on 2 March, and was named the next day \n",
    "after attaining tropical storm status. contact to\n",
    "contact77@gmail.com and alex.gray@amazon.co.uk\n",
    "'''"
   ]
  },
  {
   "cell_type": "code",
   "execution_count": 3,
   "metadata": {},
   "outputs": [
    {
     "name": "stdout",
     "output_type": "stream",
     "text": [
      "['harsh@gmail.com', 'contact77@gmail.com', 'alex.gray@amazon.co.uk']\n"
     ]
    }
   ],
   "source": [
    "import re\n",
    "pattern = \"[a-zA-Z0-9_.+-]+@[a-zA-Z0-9-]+\\.[a-zA-Z0-9-.]+\"\n",
    "\n",
    "emails = re.findall(pattern, text)\n",
    "print(emails)"
   ]
  },
  {
   "cell_type": "code",
   "execution_count": 4,
   "metadata": {},
   "outputs": [
    {
     "name": "stdout",
     "output_type": "stream",
     "text": [
      "harsh@gmail.com\n",
      "contact77@gmail.com\n",
      "alex.gray@amazon.co.uk\n"
     ]
    }
   ],
   "source": [
    "for email in emails:\n",
    "    print(email)"
   ]
  },
  {
   "cell_type": "code",
   "execution_count": null,
   "metadata": {},
   "outputs": [],
   "source": []
  }
 ],
 "metadata": {
  "kernelspec": {
   "display_name": "Python 3",
   "language": "python",
   "name": "python3"
  },
  "language_info": {
   "codemirror_mode": {
    "name": "ipython",
    "version": 3
   },
   "file_extension": ".py",
   "mimetype": "text/x-python",
   "name": "python",
   "nbconvert_exporter": "python",
   "pygments_lexer": "ipython3",
   "version": "3.9.6"
  }
 },
 "nbformat": 4,
 "nbformat_minor": 2
}
