{
 "cells": [
  {
   "cell_type": "markdown",
   "metadata": {},
   "source": [
    "ind the length of a given string without using the len() function\n",
    "\n",
    "Extract username from a given email.\n",
    "\n",
    "Ex:\n",
    "if the email is bappy@gmail.com then the username should be bappy\n",
    "Write a program that can check whether a given string is palindrome or not.\n",
    "abba\n",
    "malayalam\n",
    "mam"
   ]
  },
  {
   "cell_type": "code",
   "execution_count": 1,
   "metadata": {},
   "outputs": [
    {
     "name": "stdout",
     "output_type": "stream",
     "text": [
      "name is harsh and the lenght of string is 5\n"
     ]
    }
   ],
   "source": [
    "s = input(\"enter the name : \")\n",
    "count = 0\n",
    "for i in s:\n",
    "    count += 1\n",
    "\n",
    "print(f\"name is {s} and the lenght of string is {count}\")"
   ]
  },
  {
   "cell_type": "code",
   "execution_count": 2,
   "metadata": {},
   "outputs": [
    {
     "name": "stdout",
     "output_type": "stream",
     "text": [
      "harshbisht180\n"
     ]
    }
   ],
   "source": [
    "email = input(\"Enter your email address:\")\n",
    "name = email.index('@')\n",
    "print(email[0:name])"
   ]
  },
  {
   "cell_type": "code",
   "execution_count": 4,
   "metadata": {},
   "outputs": [
    {
     "name": "stdout",
     "output_type": "stream",
     "text": [
      "not palindornme\n"
     ]
    }
   ],
   "source": [
    "word = input(\"Enter your word:\")\n",
    "f = True\n",
    "for i in range(len(word)//2):\n",
    "    if word[i] != word[-i-1]:\n",
    "        f = False\n",
    "        print(\"not palindornme\")\n",
    "        break\n",
    "if f:\n",
    "    print(\"palindrome\")"
   ]
  }
 ],
 "metadata": {
  "kernelspec": {
   "display_name": "Python 3",
   "language": "python",
   "name": "python3"
  },
  "language_info": {
   "codemirror_mode": {
    "name": "ipython",
    "version": 3
   },
   "file_extension": ".py",
   "mimetype": "text/x-python",
   "name": "python",
   "nbconvert_exporter": "python",
   "pygments_lexer": "ipython3",
   "version": "3.9.6"
  }
 },
 "nbformat": 4,
 "nbformat_minor": 2
}
