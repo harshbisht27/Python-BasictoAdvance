{
 "cells": [
  {
   "cell_type": "code",
   "execution_count": 5,
   "metadata": {},
   "outputs": [
    {
     "name": "stdout",
     "output_type": "stream",
     "text": [
      "too low\n",
      "too low\n",
      "too low\n",
      "too low\n",
      "too low\n",
      "too high\n",
      "too high\n",
      "too high\n",
      "too low\n",
      "too low\n",
      "too low\n",
      "too low\n",
      "too low\n",
      "too low\n",
      "too low\n",
      "too low\n",
      "too high\n",
      "too high\n",
      "too high\n",
      "you won the jackpot in and ur answer is 31\n",
      " your attempt is: 20\n"
     ]
    }
   ],
   "source": [
    "import random\n",
    "jackpot = random.randint(1,50)\n",
    "\n",
    "guess = int(input(\"enter your guess no.\"))\n",
    "counter = 1\n",
    "while guess != jackpot:\n",
    "    if guess<jackpot:\n",
    "        print(\"too low\")\n",
    "    else:\n",
    "        print(\"too high\")\n",
    "    guess = int(input(\"enter guess no. again\"))\n",
    "    counter +=1\n",
    "\n",
    "else:\n",
    "    print(\"you won the jackpot in and ur answer is\", guess)\n",
    "    print(\" your attempt is:\",counter)\n"
   ]
  }
 ],
 "metadata": {
  "kernelspec": {
   "display_name": "Python 3",
   "language": "python",
   "name": "python3"
  },
  "language_info": {
   "codemirror_mode": {
    "name": "ipython",
    "version": 3
   },
   "file_extension": ".py",
   "mimetype": "text/x-python",
   "name": "python",
   "nbconvert_exporter": "python",
   "pygments_lexer": "ipython3",
   "version": "3.9.6"
  }
 },
 "nbformat": 4,
 "nbformat_minor": 2
}
